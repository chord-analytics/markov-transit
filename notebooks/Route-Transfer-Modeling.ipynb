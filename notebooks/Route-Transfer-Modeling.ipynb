{
 "cells": [
  {
   "cell_type": "markdown",
   "metadata": {},
   "source": [
    "# Route Transfer Modeling"
   ]
  },
  {
   "cell_type": "markdown",
   "metadata": {},
   "source": [
    "In this notebook we will be utilizing the Markov Chain bus transit model as developed by W. Klumpenhouwer to model route transfers between buses. The idea is to start with a transfer point, a stop that has more than one route crossing it. Given that you start on route A which shares a transfer point with route B, what's the likelihood that route A arrives at the transfer point before route B. Using the Markovian Bus model as outlined [here](https://prism.ucalgary.ca/handle/1880/106559) we'll attempt to model this scenario in the city of Calgary. Using\n",
    "Route 2 (Mt. Pleasant / Killarney 17 Ave.) to transfer over to Route 13 (Mount Royal) at the transfer point stop: NB 8 ST SW @ 14 AV SW."
   ]
  },
  {
   "cell_type": "code",
   "execution_count": 137,
   "metadata": {},
   "outputs": [],
   "source": [
    "import sys\n",
    "sys.path.append(\"/usr/src/\")\n",
    "from RouteModel.route import Model"
   ]
  },
  {
   "cell_type": "code",
   "execution_count": 138,
   "metadata": {},
   "outputs": [],
   "source": [
    "db_file = \"../thesis_data.db\"\n",
    "route_2_id = 156\n",
    "route_13_id = 70\n",
    "transfer_point_stop_id = 1252\n",
    "bounds = 15 # Boundary for maximum early/lateness"
   ]
  },
  {
   "cell_type": "code",
   "execution_count": 139,
   "metadata": {},
   "outputs": [],
   "source": [
    "## Find distributions at transfer point\n",
    "route_2_model = Model.from_db(db=db_file, route_id=route_2_id , config_id=1 , dmin=-bounds, dmax=bounds)\n",
    "route_2_model.make_lognormal_probabilities()\n",
    "route_2_seq = None\n",
    "for seq, stop in enumerate(route_2_model.stop_list):\n",
    "    if stop.stop_id == transfer_point_stop_id:\n",
    "        route_2_seq = seq\n",
    "        break\n",
    "    \n",
    "route_2_dist = route_2_model.evolve_to_stop(route_2_seq) "
   ]
  },
  {
   "cell_type": "code",
   "execution_count": 140,
   "metadata": {},
   "outputs": [],
   "source": [
    "transfer_point_stop_id = 1252\n",
    "route_13_id = 70\n",
    "route_13_model = Model.from_db(db=db_file, route_id=route_13_id , config_id=1 , dmin=-bounds, dmax=bounds)\n",
    "route_13_model.make_lognormal_probabilities()\n",
    "route_13_seq = None\n",
    "for seq, stop in enumerate(route_13_model.stop_list):\n",
    "    if stop.stop_id == transfer_point_stop_id:\n",
    "        route_13_seq = seq\n",
    "        break\n",
    "route_13_dist = route_13_model.evolve_to_stop(route_13_seq)"
   ]
  },
  {
   "cell_type": "code",
   "execution_count": 141,
   "metadata": {},
   "outputs": [
    {
     "data": {
      "text/plain": [
       "[<matplotlib.lines.Line2D at 0x7f079dc625f8>]"
      ]
     },
     "execution_count": 141,
     "metadata": {},
     "output_type": "execute_result"
    },
    {
     "data": {
      "image/png": "[encoded data removed]",
      "text/plain": [
       "<Figure size 432x288 with 1 Axes>"
      ]
     },
     "metadata": {
      "needs_background": "light"
     },
     "output_type": "display_data"
    }
   ],
   "source": [
    "## Sanity check: plot the distributions.\n",
    "import matplotlib.pyplot as plt\n",
    "import numpy as np\n",
    "t = np.arange(route_2_dist.shape[0]) - (len(route_2_dist)//2)\n",
    "plt.plot(t,route_2_dist)"
   ]
  },
  {
   "cell_type": "code",
   "execution_count": 142,
   "metadata": {},
   "outputs": [
    {
     "data": {
      "text/plain": [
       "[<matplotlib.lines.Line2D at 0x7f079e0cf1d0>]"
      ]
     },
     "execution_count": 142,
     "metadata": {},
     "output_type": "execute_result"
    },
    {
     "data": {
      "image/png": "[encoded data removed]",
      "text/plain": [
       "<Figure size 432x288 with 1 Axes>"
      ]
     },
     "metadata": {
      "needs_background": "light"
     },
     "output_type": "display_data"
    }
   ],
   "source": [
    "t = np.arange(route_13_dist.shape[0]) - (len(route_13_dist)//2)\n",
    "plt.plot(t,route_13_dist)"
   ]
  },
  {
   "cell_type": "code",
   "execution_count": 145,
   "metadata": {},
   "outputs": [],
   "source": [
    "## Get the distribution of co-ocurrences between arriving early/late between the two routes.\n",
    "event_dist = np.outer(route_2_dist, route_13_dist)\n",
    "# Helper function to get the probability\n",
    "def P(t1, t2):\n",
    "    N = event_dist.shape[0]//2\n",
    "    new_t1 = max(min(bounds*2,t1+N),0)\n",
    "    new_t2 = max(min(bounds*2,t2+N),0)\n",
    "    return event_dist[new_t1,new_t2]\n",
    "    "
   ]
  },
  {
   "cell_type": "markdown",
   "metadata": {},
   "source": [
    "Copied from the Calgary Transit website."
   ]
  },
  {
   "cell_type": "markdown",
   "metadata": {},
   "source": [
    " ![](route_2_schedule.png)"
   ]
  },
  {
   "cell_type": "markdown",
   "metadata": {},
   "source": [
    " ![](route_13_schedule.png)"
   ]
  },
  {
   "cell_type": "markdown",
   "metadata": {},
   "source": [
    "Looking at the schedule above, there are a couple different scenarios that one could take to transfer from Route 2 to Route 13. In terms of scheduling offset between the arrivals of the buses they are: 9 minutes, 19 minutes, 1 minute, 6 minutes. Depending on how early/late Route 2 is, route 13 can only then be so early/late minus the amount of scheduled offset. In order to calculate the total probability of according to each schedule we sum the probability of all the possible scenarios where you may make your connection."
   ]
  },
  {
   "cell_type": "code",
   "execution_count": 155,
   "metadata": {},
   "outputs": [],
   "source": [
    "## Probability of transfer according to offset\n",
    "def p_transfer(schedule_offset):\n",
    "    total_probability = 0.0\n",
    "    for t_route_2 in range(-bounds,bounds):\n",
    "        for t_route_13 in range(t_route_2-schedule_offset, bounds):\n",
    "            total_probability += P(t_route_2, t_route_13)\n",
    "    return total_probability\n",
    "            \n",
    "schedule_offsets = [9, 19, 1, 6]\n",
    "probability_of_transfer = [p_transfer(offset) for offset in schedule_offsets]"
   ]
  },
  {
   "cell_type": "code",
   "execution_count": 156,
   "metadata": {},
   "outputs": [
    {
     "name": "stdout",
     "output_type": "stream",
     "text": [
      "Offset (mins): 9 -- Probability 0.942583558812786\n",
      "Offset (mins): 19 -- Probability 0.9915967438359496\n",
      "Offset (mins): 1 -- Probability 0.701062985767415\n",
      "Offset (mins): 6 -- Probability 0.891329294092829\n"
     ]
    }
   ],
   "source": [
    "for offset,probability in zip(schedule_offsets,probability_of_transfer):\n",
    "    print(f\"Offset (mins): {offset} -- Probability {probability}\")"
   ]
  },
  {
   "cell_type": "code",
   "execution_count": null,
   "metadata": {},
   "outputs": [],
   "source": []
  },
  {
   "cell_type": "code",
   "execution_count": null,
   "metadata": {},
   "outputs": [],
   "source": []
  }
 ],
 "metadata": {
  "kernelspec": {
   "display_name": "Python 3",
   "language": "python",
   "name": "python3"
  },
  "language_info": {
   "codemirror_mode": {
    "name": "ipython",
    "version": 3
   },
   "file_extension": ".py",
   "mimetype": "text/x-python",
   "name": "python",
   "nbconvert_exporter": "python",
   "pygments_lexer": "ipython3",
   "version": "3.7.1"
  }
 },
 "nbformat": 4,
 "nbformat_minor": 2
}
